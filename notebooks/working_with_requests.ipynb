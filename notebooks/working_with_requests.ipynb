{
 "cells": [
  {
   "cell_type": "code",
   "execution_count": 1,
   "id": "a15d21c3-cd4c-4b04-a7ba-44e5b7817a22",
   "metadata": {},
   "outputs": [],
   "source": [
    "import requests"
   ]
  },
  {
   "cell_type": "code",
   "execution_count": 3,
   "id": "2484a780-f4be-41f4-970d-6a688a1c6059",
   "metadata": {},
   "outputs": [
    {
     "name": "stdout",
     "output_type": "stream",
     "text": [
      "Joke: Chuck Norris has clocked both \"FarmVille\" and \"Mafia Wars\" on Facebook, and his WOW avatar is a level 10000 AH-64 Apache.\n"
     ]
    }
   ],
   "source": [
    "try:\n",
    "    response = requests.get(\"https://api.chucknorris.io/jokes/random\")\n",
    "    response.raise_for_status()\n",
    "    data = response.json()\n",
    "    print(f\"Joke: {data['value']}\")\n",
    "except requests.exceptions.RequestException as e:\n",
    "    print(f\"Error: {e}\")"
   ]
  },
  {
   "cell_type": "code",
   "execution_count": null,
   "id": "bf16a633-e4a5-4c21-bc35-e638d294825a",
   "metadata": {},
   "outputs": [],
   "source": []
  }
 ],
 "metadata": {
  "kernelspec": {
   "display_name": "Python 3 (ipykernel)",
   "language": "python",
   "name": "python3"
  },
  "language_info": {
   "codemirror_mode": {
    "name": "ipython",
    "version": 3
   },
   "file_extension": ".py",
   "mimetype": "text/x-python",
   "name": "python",
   "nbconvert_exporter": "python",
   "pygments_lexer": "ipython3",
   "version": "3.11.7"
  }
 },
 "nbformat": 4,
 "nbformat_minor": 5
}
