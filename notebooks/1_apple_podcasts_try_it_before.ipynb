{
 "cells": [
  {
   "cell_type": "markdown",
   "id": "587eebb9-d484-4e2f-ba21-69333a234d5b",
   "metadata": {},
   "source": [
    "### Try it Before Exercises'"
   ]
  },
  {
   "cell_type": "code",
   "execution_count": 5,
   "id": "e3dde3dd-2ce0-4f55-ab07-476db9b00462",
   "metadata": {},
   "outputs": [
    {
     "name": "stdout",
     "output_type": "stream",
     "text": [
      "================================================================================\n",
      "EXERCISE 1: Working with f-strings (Formatted Strings)\n",
      "================================================================================\n",
      "\n"
     ]
    }
   ],
   "source": [
    "print(\"=\"*80)\n",
    "print(\"EXERCISE 1: Working with f-strings (Formatted Strings)\")\n",
    "print(\"=\"*80)\n",
    "print()"
   ]
  },
  {
   "cell_type": "code",
   "execution_count": 8,
   "id": "9da8d33a-4383-4cdb-9b0a-a74ad41d8e8e",
   "metadata": {},
   "outputs": [
    {
     "name": "stdout",
     "output_type": "stream",
     "text": [
      "I'm learning Python version 3.9\n"
     ]
    }
   ],
   "source": [
    "# Example: F-string let you insert variables into strings easily\n",
    "name = \"Python\"\n",
    "version = 3.9\n",
    "print(f\"I'm learning {name} version {version}\")"
   ]
  },
  {
   "cell_type": "markdown",
   "id": "30d77452-c7f8-49ca-9177-f5cd29992513",
   "metadata": {},
   "source": [
    "---"
   ]
  },
  {
   "cell_type": "code",
   "execution_count": 9,
   "id": "fedf7b2e-38c2-4240-957c-cf934c757318",
   "metadata": {},
   "outputs": [
    {
     "name": "stdout",
     "output_type": "stream",
     "text": [
      "\n",
      "================================================================================\n",
      "EXERCISE 2: Functions with Default Parameters\n",
      "================================================================================\n",
      "\n"
     ]
    }
   ],
   "source": [
    "print(\"\\n\" + \"=\"*80)\n",
    "print(\"EXERCISE 2: Functions with Default Parameters\")\n",
    "print(\"=\"*80)\n",
    "print()"
   ]
  },
  {
   "cell_type": "code",
   "execution_count": 10,
   "id": "733520eb-275c-4858-abeb-49f5bf3e09d4",
   "metadata": {},
   "outputs": [],
   "source": [
    "# Example : Functions can have default values for parameters\n",
    "def greet(name=\"Guest\", language=\"English\"):\n",
    "    print(f\"Hello {name}! Speaking in {language}\")"
   ]
  },
  {
   "cell_type": "code",
   "execution_count": 11,
   "id": "6659905d-eb8e-4cdf-97b4-ffb96dedea0b",
   "metadata": {},
   "outputs": [
    {
     "name": "stdout",
     "output_type": "stream",
     "text": [
      "Hello Guest! Speaking in English\n"
     ]
    }
   ],
   "source": [
    "greet()"
   ]
  },
  {
   "cell_type": "code",
   "execution_count": 12,
   "id": "cb3ec787-94f6-4845-8e95-ce3b7835dd5f",
   "metadata": {},
   "outputs": [
    {
     "name": "stdout",
     "output_type": "stream",
     "text": [
      "Hello Alice! Speaking in English\n"
     ]
    }
   ],
   "source": [
    "greet(\"Alice\")"
   ]
  },
  {
   "cell_type": "code",
   "execution_count": 13,
   "id": "d878a4bd-291a-4b8a-8de1-1e15f8cb1d39",
   "metadata": {},
   "outputs": [
    {
     "name": "stdout",
     "output_type": "stream",
     "text": [
      "Hello Bob! Speaking in Spanish\n"
     ]
    }
   ],
   "source": [
    "greet(\"Bob\", \"Spanish\")"
   ]
  },
  {
   "cell_type": "code",
   "execution_count": 14,
   "id": "5f0371f1-1120-43ba-93bc-18995a7a0664",
   "metadata": {},
   "outputs": [
    {
     "name": "stdout",
     "output_type": "stream",
     "text": [
      "\n",
      "================================================================================\n",
      "EXERCISE 3: Working with Lists and Enumerate\n",
      "================================================================================\n",
      "\n"
     ]
    }
   ],
   "source": [
    "print(\"\\n\" + \"=\"*80)\n",
    "print(\"EXERCISE 3: Working with Lists and Enumerate\")\n",
    "print(\"=\"*80)\n",
    "print()"
   ]
  },
  {
   "cell_type": "code",
   "execution_count": 15,
   "id": "60baad75-9097-43d2-b296-e962fd0c0d89",
   "metadata": {},
   "outputs": [],
   "source": [
    "# Example: enumerate() gives you both index and item\n",
    "podcasts = [\"Joe Rogan\", \"Crime Junkie\", \"The Daily\"]"
   ]
  },
  {
   "cell_type": "code",
   "execution_count": 18,
   "id": "cc08a584-fb7e-426a-a75b-e0172491d60b",
   "metadata": {},
   "outputs": [
    {
     "name": "stdout",
     "output_type": "stream",
     "text": [
      "Position 1: Joe Rogan\n",
      "Position 2: Crime Junkie\n",
      "Position 3: The Daily\n"
     ]
    }
   ],
   "source": [
    "for index, podcast in enumerate(podcasts, 1):\n",
    "    print(f\"Position {index}: {podcast}\")"
   ]
  },
  {
   "cell_type": "code",
   "execution_count": 19,
   "id": "cfeab241-1e43-4b89-bfeb-bb77a1784bf8",
   "metadata": {},
   "outputs": [
    {
     "name": "stdout",
     "output_type": "stream",
     "text": [
      "\n",
      "================================================================================\n",
      "EXERCISE 4: Try-Except Error Handling\n",
      "================================================================================\n"
     ]
    }
   ],
   "source": [
    "print(\"\\n\" + \"=\"*80)\n",
    "print(\"EXERCISE 4: Try-Except Error Handling\")\n",
    "print(\"=\"*80)"
   ]
  },
  {
   "cell_type": "code",
   "execution_count": 20,
   "id": "a310e145-2023-440f-ae0c-6b65a5e3536c",
   "metadata": {},
   "outputs": [],
   "source": [
    "# Example: Handling errors gracefully\n",
    "def divide_numbers(a, b):\n",
    "    try:\n",
    "        result = a / b\n",
    "        print(f\"{a} / {b} = {result}\")\n",
    "        return result\n",
    "    except ZeroDivisionError:\n",
    "        print(\"Error: Cannot divide by zero!\")\n",
    "        return None"
   ]
  },
  {
   "cell_type": "code",
   "execution_count": 21,
   "id": "56eff946-4f8b-44b5-82d8-b4d6d7ca0c0c",
   "metadata": {},
   "outputs": [
    {
     "name": "stdout",
     "output_type": "stream",
     "text": [
      "10 / 2 = 5.0\n"
     ]
    },
    {
     "data": {
      "text/plain": [
       "5.0"
      ]
     },
     "execution_count": 21,
     "metadata": {},
     "output_type": "execute_result"
    }
   ],
   "source": [
    "divide_numbers(10, 2)"
   ]
  },
  {
   "cell_type": "code",
   "execution_count": 23,
   "id": "fc317390-587f-4af4-b818-2f880f63bc69",
   "metadata": {},
   "outputs": [
    {
     "name": "stdout",
     "output_type": "stream",
     "text": [
      "Error: Cannot divide by zero!\n"
     ]
    }
   ],
   "source": [
    "divide_numbers(10, 0)"
   ]
  },
  {
   "cell_type": "code",
   "execution_count": null,
   "id": "33799ebb-3c07-40a7-b5a0-d05fe0990f0e",
   "metadata": {},
   "outputs": [],
   "source": []
  }
 ],
 "metadata": {
  "kernelspec": {
   "display_name": "Python 3 (ipykernel)",
   "language": "python",
   "name": "python3"
  },
  "language_info": {
   "codemirror_mode": {
    "name": "ipython",
    "version": 3
   },
   "file_extension": ".py",
   "mimetype": "text/x-python",
   "name": "python",
   "nbconvert_exporter": "python",
   "pygments_lexer": "ipython3",
   "version": "3.11.7"
  }
 },
 "nbformat": 4,
 "nbformat_minor": 5
}
