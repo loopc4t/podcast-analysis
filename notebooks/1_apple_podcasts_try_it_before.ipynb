{
 "cells": [
  {
   "cell_type": "markdown",
   "id": "587eebb9-d484-4e2f-ba21-69333a234d5b",
   "metadata": {},
   "source": [
    "### Try it Before Exercises'"
   ]
  },
  {
   "cell_type": "code",
   "execution_count": 1,
   "id": "e3dde3dd-2ce0-4f55-ab07-476db9b00462",
   "metadata": {},
   "outputs": [
    {
     "name": "stdout",
     "output_type": "stream",
     "text": [
      "================================================================================\n",
      "EXERCISE 1: Working with f-strings (Formatted Strings)\n",
      "================================================================================\n",
      "\n"
     ]
    }
   ],
   "source": [
    "print(\"=\"*80)\n",
    "print(\"EXERCISE 1: Working with f-strings (Formatted Strings)\")\n",
    "print(\"=\"*80)\n",
    "print()"
   ]
  },
  {
   "cell_type": "code",
   "execution_count": 2,
   "id": "9da8d33a-4383-4cdb-9b0a-a74ad41d8e8e",
   "metadata": {},
   "outputs": [
    {
     "name": "stdout",
     "output_type": "stream",
     "text": [
      "I'm learning Python version 3.9\n"
     ]
    }
   ],
   "source": [
    "# Example: F-string let you insert variables into strings easily\n",
    "name = \"Python\"\n",
    "version = 3.9\n",
    "print(f\"I'm learning {name} version {version}\")"
   ]
  },
  {
   "cell_type": "markdown",
   "id": "30d77452-c7f8-49ca-9177-f5cd29992513",
   "metadata": {},
   "source": [
    "---"
   ]
  },
  {
   "cell_type": "code",
   "execution_count": 3,
   "id": "fedf7b2e-38c2-4240-957c-cf934c757318",
   "metadata": {},
   "outputs": [
    {
     "name": "stdout",
     "output_type": "stream",
     "text": [
      "\n",
      "================================================================================\n",
      "EXERCISE 2: Functions with Default Parameters\n",
      "================================================================================\n",
      "\n"
     ]
    }
   ],
   "source": [
    "print(\"\\n\" + \"=\"*80)\n",
    "print(\"EXERCISE 2: Functions with Default Parameters\")\n",
    "print(\"=\"*80)\n",
    "print()"
   ]
  },
  {
   "cell_type": "code",
   "execution_count": 4,
   "id": "733520eb-275c-4858-abeb-49f5bf3e09d4",
   "metadata": {},
   "outputs": [],
   "source": [
    "# Example : Functions can have default values for parameters\n",
    "def greet(name=\"Guest\", language=\"English\"):\n",
    "    print(f\"Hello {name}! Speaking in {language}\")"
   ]
  },
  {
   "cell_type": "code",
   "execution_count": 5,
   "id": "6659905d-eb8e-4cdf-97b4-ffb96dedea0b",
   "metadata": {},
   "outputs": [
    {
     "name": "stdout",
     "output_type": "stream",
     "text": [
      "Hello Guest! Speaking in English\n"
     ]
    }
   ],
   "source": [
    "greet()"
   ]
  },
  {
   "cell_type": "code",
   "execution_count": 6,
   "id": "cb3ec787-94f6-4845-8e95-ce3b7835dd5f",
   "metadata": {},
   "outputs": [
    {
     "name": "stdout",
     "output_type": "stream",
     "text": [
      "Hello Alice! Speaking in English\n"
     ]
    }
   ],
   "source": [
    "greet(\"Alice\")"
   ]
  },
  {
   "cell_type": "code",
   "execution_count": 7,
   "id": "d878a4bd-291a-4b8a-8de1-1e15f8cb1d39",
   "metadata": {},
   "outputs": [
    {
     "name": "stdout",
     "output_type": "stream",
     "text": [
      "Hello Bob! Speaking in Spanish\n"
     ]
    }
   ],
   "source": [
    "greet(\"Bob\", \"Spanish\")"
   ]
  },
  {
   "cell_type": "code",
   "execution_count": 8,
   "id": "5f0371f1-1120-43ba-93bc-18995a7a0664",
   "metadata": {},
   "outputs": [
    {
     "name": "stdout",
     "output_type": "stream",
     "text": [
      "\n",
      "================================================================================\n",
      "EXERCISE 3: Working with Lists and Enumerate\n",
      "================================================================================\n",
      "\n"
     ]
    }
   ],
   "source": [
    "print(\"\\n\" + \"=\"*80)\n",
    "print(\"EXERCISE 3: Working with Lists and Enumerate\")\n",
    "print(\"=\"*80)\n",
    "print()"
   ]
  },
  {
   "cell_type": "code",
   "execution_count": 9,
   "id": "60baad75-9097-43d2-b296-e962fd0c0d89",
   "metadata": {},
   "outputs": [],
   "source": [
    "# Example: enumerate() gives you both index and item\n",
    "podcasts = [\"Joe Rogan\", \"Crime Junkie\", \"The Daily\"]"
   ]
  },
  {
   "cell_type": "code",
   "execution_count": 10,
   "id": "cc08a584-fb7e-426a-a75b-e0172491d60b",
   "metadata": {},
   "outputs": [
    {
     "name": "stdout",
     "output_type": "stream",
     "text": [
      "Position 1: Joe Rogan\n",
      "Position 2: Crime Junkie\n",
      "Position 3: The Daily\n"
     ]
    }
   ],
   "source": [
    "for index, podcast in enumerate(podcasts, 1):\n",
    "    print(f\"Position {index}: {podcast}\")"
   ]
  },
  {
   "cell_type": "code",
   "execution_count": 11,
   "id": "cfeab241-1e43-4b89-bfeb-bb77a1784bf8",
   "metadata": {},
   "outputs": [
    {
     "name": "stdout",
     "output_type": "stream",
     "text": [
      "\n",
      "================================================================================\n",
      "EXERCISE 4: Try-Except Error Handling\n",
      "================================================================================\n"
     ]
    }
   ],
   "source": [
    "print(\"\\n\" + \"=\"*80)\n",
    "print(\"EXERCISE 4: Try-Except Error Handling\")\n",
    "print(\"=\"*80)"
   ]
  },
  {
   "cell_type": "code",
   "execution_count": 12,
   "id": "a310e145-2023-440f-ae0c-6b65a5e3536c",
   "metadata": {},
   "outputs": [],
   "source": [
    "# Example: Handling errors gracefully\n",
    "def divide_numbers(a, b):\n",
    "    try:\n",
    "        result = a / b\n",
    "        print(f\"{a} / {b} = {result}\")\n",
    "        return result\n",
    "    except ZeroDivisionError:\n",
    "        print(\"Error: Cannot divide by zero!\")\n",
    "        return None"
   ]
  },
  {
   "cell_type": "code",
   "execution_count": 13,
   "id": "56eff946-4f8b-44b5-82d8-b4d6d7ca0c0c",
   "metadata": {},
   "outputs": [
    {
     "name": "stdout",
     "output_type": "stream",
     "text": [
      "10 / 2 = 5.0\n"
     ]
    },
    {
     "data": {
      "text/plain": [
       "5.0"
      ]
     },
     "execution_count": 13,
     "metadata": {},
     "output_type": "execute_result"
    }
   ],
   "source": [
    "divide_numbers(10, 2)"
   ]
  },
  {
   "cell_type": "code",
   "execution_count": 14,
   "id": "fc317390-587f-4af4-b818-2f880f63bc69",
   "metadata": {},
   "outputs": [
    {
     "name": "stdout",
     "output_type": "stream",
     "text": [
      "Error: Cannot divide by zero!\n"
     ]
    }
   ],
   "source": [
    "divide_numbers(10, 0)"
   ]
  },
  {
   "cell_type": "code",
   "execution_count": 21,
   "id": "33799ebb-3c07-40a7-b5a0-d05fe0990f0e",
   "metadata": {},
   "outputs": [
    {
     "name": "stdout",
     "output_type": "stream",
     "text": [
      "\n",
      "================================================================================\n",
      "EXERCISE 5: Working with dictionaries\n",
      "================================================================================\n",
      "\n"
     ]
    }
   ],
   "source": [
    "print(\"\\n\" + \"=\"*80)\n",
    "print(\"EXERCISE 5: Working with dictionaries\")\n",
    "print(\"=\"*80)\n",
    "print()"
   ]
  },
  {
   "cell_type": "code",
   "execution_count": 22,
   "id": "257fd3a5-c025-40b7-86b5-5f355c890552",
   "metadata": {},
   "outputs": [],
   "source": [
    "# Example: Dictionary store key-value pairs (like JSON)\n",
    "podcast = {\n",
    "    \"name\": \"The Joe Rogan Experience\",\n",
    "    \"host\": \"Joe Rogan\",\n",
    "    \"episodes\": 2000\n",
    "}"
   ]
  },
  {
   "cell_type": "code",
   "execution_count": 23,
   "id": "9f3fe5bb-e953-4988-8417-9f93eda0a799",
   "metadata": {},
   "outputs": [
    {
     "name": "stdout",
     "output_type": "stream",
     "text": [
      "Podcast: The Joe Rogan Experience\n"
     ]
    }
   ],
   "source": [
    "print(f\"Podcast: {podcast['name']}\")"
   ]
  },
  {
   "cell_type": "code",
   "execution_count": 24,
   "id": "721ee299-7784-4834-b84f-75b423f6d50a",
   "metadata": {},
   "outputs": [
    {
     "name": "stdout",
     "output_type": "stream",
     "text": [
      "Host: Joe Rogan\n"
     ]
    }
   ],
   "source": [
    "print(f\"Host: {podcast.get('host')}\")"
   ]
  },
  {
   "cell_type": "code",
   "execution_count": 25,
   "id": "cdc23142-0d31-447b-b5a4-489d65ac428f",
   "metadata": {},
   "outputs": [
    {
     "name": "stdout",
     "output_type": "stream",
     "text": [
      "Genre: Unknown\n"
     ]
    }
   ],
   "source": [
    "print(f\"Genre: {podcast.get('genre', 'Unknown')}\")"
   ]
  },
  {
   "cell_type": "code",
   "execution_count": 27,
   "id": "1c965a06-3d95-4e77-aa0b-c8c4887ce30a",
   "metadata": {},
   "outputs": [
    {
     "name": "stdout",
     "output_type": "stream",
     "text": [
      "\n",
      "================================================================================\n",
      "EXERCISE 6: Conditional Expressions (Ternary Operator)\n",
      "================================================================================\n",
      "\n"
     ]
    }
   ],
   "source": [
    "print(\"\\n\" + \"=\"*80)\n",
    "print(\"EXERCISE 6: Conditional Expressions (Ternary Operator)\")\n",
    "print(\"=\"*80)\n",
    "print()"
   ]
  },
  {
   "cell_type": "code",
   "execution_count": 28,
   "id": "54d25e2f-2351-42e9-a2b0-57cb2f3d40b0",
   "metadata": {},
   "outputs": [
    {
     "name": "stdout",
     "output_type": "stream",
     "text": [
      "Age 15: minor\n"
     ]
    }
   ],
   "source": [
    "# Example: if-else in one line\n",
    "age = 15\n",
    "status = \"adult\" if age>= 18 else \"minor\"\n",
    "print(f\"Age {age}: {status}\")"
   ]
  },
  {
   "cell_type": "code",
   "execution_count": 29,
   "id": "beaabf52-b580-40f1-9535-2a08dc59fa12",
   "metadata": {},
   "outputs": [
    {
     "name": "stdout",
     "output_type": "stream",
     "text": [
      "Podcast: N/A\n"
     ]
    }
   ],
   "source": [
    "# Example with None checking\n",
    "podcast_name = None\n",
    "display_name = podcast_name if podcast_name is not None else \"N/A\"\n",
    "print(f\"Podcast: {display_name}\")"
   ]
  },
  {
   "cell_type": "code",
   "execution_count": 30,
   "id": "95630d18-0fc2-4b4b-9e81-f4a5e7aa07f1",
   "metadata": {},
   "outputs": [
    {
     "name": "stdout",
     "output_type": "stream",
     "text": [
      "\n",
      "================================================================================\n",
      "EXERCISE 7: String formatting with numbers\n",
      "================================================================================\n",
      "\n"
     ]
    }
   ],
   "source": [
    "print(\"\\n\" + \"=\"*80)\n",
    "print(\"EXERCISE 7: String formatting with numbers\")\n",
    "print(\"=\"*80)\n",
    "print()"
   ]
  },
  {
   "cell_type": "code",
   "execution_count": 41,
   "id": "25cc22a7-a8f0-4976-a67d-4ea81db5e583",
   "metadata": {},
   "outputs": [
    {
     "name": "stdout",
     "output_type": "stream",
     "text": [
      " 1; Episode 1\n",
      " 2; Episode 2\n",
      " 3; Episode 3\n",
      " 4; Episode 4\n",
      " 5; Episode 5\n",
      " 6; Episode 6\n",
      " 7; Episode 7\n",
      " 8; Episode 8\n",
      " 9; Episode 9\n",
      "10; Episode 10\n",
      "11; Episode 11\n",
      "12; Episode 12\n",
      "13; Episode 13\n",
      "14; Episode 14\n"
     ]
    }
   ],
   "source": [
    "# Example: Formating numbers in different ways\n",
    "for i in range(1, 15):\n",
    "    print(f\"{i:2d}; Episode {i}\") # 2d = 2-digit width, right-aligned"
   ]
  },
  {
   "cell_type": "code",
   "execution_count": 45,
   "id": "3ac660bb-95b8-4606-b081-cb24a689300f",
   "metadata": {},
   "outputs": [
    {
     "name": "stdout",
     "output_type": "stream",
     "text": [
      "Price: $9.99\n"
     ]
    }
   ],
   "source": [
    "# Example: different number formatting\n",
    "price = 9.99\n",
    "print(f\"Price: ${price:.2f}\") # 2 decimal places"
   ]
  },
  {
   "cell_type": "code",
   "execution_count": 47,
   "id": "08f380ae-1e55-4d4e-b7c2-16c5da518ab9",
   "metadata": {},
   "outputs": [
    {
     "name": "stdout",
     "output_type": "stream",
     "text": [
      "Price: $    9.99\n"
     ]
    }
   ],
   "source": [
    "print(f\"Price: ${price:>8.2f}\") # Right aligned in 8 characters"
   ]
  },
  {
   "cell_type": "code",
   "execution_count": 48,
   "id": "8e82c2a8-7649-4521-ae86-36e769193dbb",
   "metadata": {},
   "outputs": [
    {
     "name": "stdout",
     "output_type": "stream",
     "text": [
      "\n",
      "================================================================================\n",
      "EXERCISE 8: Working with XML (Simplified)\n",
      "================================================================================\n",
      "\n"
     ]
    }
   ],
   "source": [
    "print(\"\\n\" + \"=\"*80)\n",
    "print(\"EXERCISE 8: Working with XML (Simplified)\")\n",
    "print(\"=\"*80)\n",
    "print()"
   ]
  },
  {
   "cell_type": "code",
   "execution_count": 1,
   "id": "2670130f-0ba3-4c1d-a04e-2ccf6a644856",
   "metadata": {},
   "outputs": [],
   "source": [
    "import xml.etree.ElementTree as ET"
   ]
  },
  {
   "cell_type": "code",
   "execution_count": 2,
   "id": "6102acd3-c0bd-473f-862d-3e12f64b41f6",
   "metadata": {},
   "outputs": [],
   "source": [
    "# Example: Parse a simple XML string\n",
    "xml_data = \"\"\"\n",
    "<podcasts>\n",
    "    <podcast>\n",
    "        <name>Tech Talk</name>\n",
    "        <host>Jane Doe</host>\n",
    "    </podcast>\n",
    "    <podcast>\n",
    "        <name>Science Hour</name>\n",
    "        <host>John Smith</host>\n",
    "    </podcast>\n",
    "</podcasts>\n",
    "\"\"\""
   ]
  },
  {
   "cell_type": "code",
   "execution_count": 3,
   "id": "e3355e32-e0b3-443e-99b9-61a35e0b4389",
   "metadata": {},
   "outputs": [],
   "source": [
    "root = ET.fromstring(xml_data)"
   ]
  },
  {
   "cell_type": "code",
   "execution_count": 4,
   "id": "387cd1eb-34f8-4797-9501-9e9ad325c851",
   "metadata": {},
   "outputs": [
    {
     "name": "stdout",
     "output_type": "stream",
     "text": [
      "Podcast: Tech Talk, Host: Jane Doe\n",
      "Podcast: Science Hour, Host: John Smith\n"
     ]
    }
   ],
   "source": [
    "# Find all podcast elements\n",
    "for podcast in root.findall('podcast'):\n",
    "    name = podcast.find('name').text\n",
    "    host = podcast.find('host').text\n",
    "    print(f\"Podcast: {name}, Host: {host}\")"
   ]
  },
  {
   "cell_type": "code",
   "execution_count": 5,
   "id": "a69f3005-f61a-49bb-ae88-0e45a86aa050",
   "metadata": {},
   "outputs": [
    {
     "name": "stdout",
     "output_type": "stream",
     "text": [
      "\n",
      "================================================================================\n",
      "EXERCISE 9: Making HTTP Requests (Using a Free API)\n",
      "================================================================================\n",
      "\n"
     ]
    }
   ],
   "source": [
    "print(\"\\n\" + \"=\"*80)\n",
    "print(\"EXERCISE 9: Making HTTP Requests (Using a Free API)\")\n",
    "print(\"=\"*80)\n",
    "print()"
   ]
  },
  {
   "cell_type": "code",
   "execution_count": 6,
   "id": "3494c715-718c-4d63-8e1c-f4c0487b7a2e",
   "metadata": {},
   "outputs": [],
   "source": [
    "import requests"
   ]
  },
  {
   "cell_type": "code",
   "execution_count": 7,
   "id": "974df8e4-8dd8-41ed-ade5-3be24c352d07",
   "metadata": {},
   "outputs": [
    {
     "name": "stdout",
     "output_type": "stream",
     "text": [
      "Cat fact: Julius Ceasar, Henri II, Charles XI, and Napoleon were all afraid of cats.\n"
     ]
    }
   ],
   "source": [
    "# Example: Fetch random cat fact\n",
    "try:\n",
    "    response = requests.get(\"https://catfact.ninja/fact\", timeout=5)\n",
    "    response.raise_for_status()\n",
    "    data = response.json()\n",
    "    print(f\"Cat fact: {data['fact']}\")\n",
    "except requests.exceptions.RequestException as e:\n",
    "    print(f\"Error: {e}\")"
   ]
  },
  {
   "cell_type": "code",
   "execution_count": 8,
   "id": "4e29e609-1ed1-4309-9ecd-f0d131c80cf1",
   "metadata": {},
   "outputs": [
    {
     "name": "stdout",
     "output_type": "stream",
     "text": [
      "\n",
      "================================================================================\n",
      "EXERCISE 10: Putting It All Together\n",
      "================================================================================\n",
      "\n"
     ]
    }
   ],
   "source": [
    "print(\"\\n\" + \"=\"*80)\n",
    "print(\"EXERCISE 10: Putting It All Together\")\n",
    "print(\"=\"*80)\n",
    "print()"
   ]
  },
  {
   "cell_type": "code",
   "execution_count": 72,
   "id": "5d07e88e-cb8e-4788-9236-932bd7e70b8f",
   "metadata": {},
   "outputs": [],
   "source": [
    "podcasts = [\"Darknet Diaries\", \"Decoder Ring\", \"Heavyweight\", \"Search Engine\", \"Short History Of...\"]"
   ]
  },
  {
   "cell_type": "code",
   "execution_count": 77,
   "id": "9fd6ad29-93c1-4796-baaa-fd73162ccc65",
   "metadata": {},
   "outputs": [],
   "source": [
    "# Create a function called 'display_top_items'\n",
    "def display_top_items(items=podcasts, category=\"Items\"):\n",
    "    for index, podcast in enumerate(podcasts, 1):\n",
    "        print(f\"{index}. {podcast} - {category}\")"
   ]
  },
  {
   "cell_type": "code",
   "execution_count": 78,
   "id": "4976387a-ef4c-4245-acfe-6eecd673a8fa",
   "metadata": {},
   "outputs": [
    {
     "name": "stdout",
     "output_type": "stream",
     "text": [
      "1. Darknet Diaries - Items\n",
      "2. Decoder Ring - Items\n",
      "3. Heavyweight - Items\n",
      "4. Search Engine - Items\n",
      "5. Short History Of... - Items\n"
     ]
    }
   ],
   "source": [
    "display_top_items()"
   ]
  },
  {
   "cell_type": "code",
   "execution_count": null,
   "id": "8bb156b4-4a91-40b3-8ed5-2afcff0bec7d",
   "metadata": {},
   "outputs": [],
   "source": []
  },
  {
   "cell_type": "code",
   "execution_count": null,
   "id": "9d433f52-64bb-43fb-aec9-ef5217b5fd74",
   "metadata": {},
   "outputs": [],
   "source": []
  }
 ],
 "metadata": {
  "kernelspec": {
   "display_name": "Python 3 (ipykernel)",
   "language": "python",
   "name": "python3"
  },
  "language_info": {
   "codemirror_mode": {
    "name": "ipython",
    "version": 3
   },
   "file_extension": ".py",
   "mimetype": "text/x-python",
   "name": "python",
   "nbconvert_exporter": "python",
   "pygments_lexer": "ipython3",
   "version": "3.11.7"
  }
 },
 "nbformat": 4,
 "nbformat_minor": 5
}
