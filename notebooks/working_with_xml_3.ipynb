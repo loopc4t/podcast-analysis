{
 "cells": [
  {
   "cell_type": "markdown",
   "id": "18f9967e-959b-45bf-8e5d-bd8bc6530e4f",
   "metadata": {},
   "source": [
    "### BBC Feed"
   ]
  },
  {
   "cell_type": "code",
   "execution_count": 15,
   "id": "f7b670b0-f28c-4946-8375-cb079cb8186e",
   "metadata": {},
   "outputs": [],
   "source": [
    "import requests\n",
    "import xml.etree.ElementTree as ET"
   ]
  },
  {
   "cell_type": "code",
   "execution_count": 16,
   "id": "d910149f-1595-456f-ad86-4abdc423cfbf",
   "metadata": {},
   "outputs": [],
   "source": [
    "url = \"https://feeds.bbci.co.uk/news/world/rss.xml\""
   ]
  },
  {
   "cell_type": "code",
   "execution_count": 17,
   "id": "90f3465c-873e-4c0d-99d3-7634e33abb83",
   "metadata": {},
   "outputs": [],
   "source": [
    "response = requests.get(url)"
   ]
  },
  {
   "cell_type": "code",
   "execution_count": 18,
   "id": "bf2bf1af-0585-4fbc-9fbf-68c43f0ff1d4",
   "metadata": {},
   "outputs": [
    {
     "name": "stdout",
     "output_type": "stream",
     "text": [
      "Success!\n"
     ]
    }
   ],
   "source": [
    "if response.status_code == 200:\n",
    "    print(\"Success!\")\n",
    "else:\n",
    "    print(\"Fail to fetch BBC info\")"
   ]
  },
  {
   "cell_type": "code",
   "execution_count": 19,
   "id": "65b08c17-1274-41e8-b66e-c5dd2653efb5",
   "metadata": {},
   "outputs": [],
   "source": [
    "root = ET.fromstring(response.content)"
   ]
  },
  {
   "cell_type": "code",
   "execution_count": 20,
   "id": "3977cd74-d7ac-4711-90d6-9cdec7edb646",
   "metadata": {},
   "outputs": [
    {
     "name": "stdout",
     "output_type": "stream",
     "text": [
      "rss\n"
     ]
    }
   ],
   "source": [
    "print(root.tag)"
   ]
  },
  {
   "cell_type": "code",
   "execution_count": 21,
   "id": "061d0ee2-662e-4c44-838a-46c69116a1b5",
   "metadata": {},
   "outputs": [
    {
     "name": "stdout",
     "output_type": "stream",
     "text": [
      "Root tag:  rss\n",
      "channel\n"
     ]
    }
   ],
   "source": [
    "# Find top level items\n",
    "print(\"Root tag: \", root.tag)\n",
    "for child in root:\n",
    "    print(child.tag)"
   ]
  },
  {
   "cell_type": "code",
   "execution_count": 22,
   "id": "8cdd7d6c-7cfd-4798-a83c-b05e6a5850fb",
   "metadata": {},
   "outputs": [],
   "source": [
    "# Inspect channel to discover its structure\n",
    "channel_structure = root.find('channel')"
   ]
  },
  {
   "cell_type": "code",
   "execution_count": 23,
   "id": "1af9978b-5912-42e6-a556-0d08cf4bbc30",
   "metadata": {},
   "outputs": [
    {
     "name": "stdout",
     "output_type": "stream",
     "text": [
      "title\n",
      "description\n",
      "link\n",
      "image\n",
      "generator\n",
      "lastBuildDate\n",
      "{http://www.w3.org/2005/Atom}link\n",
      "copyright\n",
      "language\n",
      "ttl\n",
      "item\n",
      "item\n",
      "item\n",
      "item\n",
      "item\n",
      "item\n",
      "item\n",
      "item\n",
      "item\n",
      "item\n",
      "item\n",
      "item\n",
      "item\n",
      "item\n",
      "item\n",
      "item\n",
      "item\n",
      "item\n",
      "item\n",
      "item\n",
      "item\n",
      "item\n",
      "item\n",
      "item\n",
      "item\n",
      "item\n",
      "item\n",
      "item\n",
      "item\n"
     ]
    }
   ],
   "source": [
    "for elem in channel_structure:\n",
    "    print(elem.tag)"
   ]
  },
  {
   "cell_type": "code",
   "execution_count": 24,
   "id": "f44d0b43-5a14-4769-9b6d-8523f346f491",
   "metadata": {},
   "outputs": [
    {
     "name": "stdout",
     "output_type": "stream",
     "text": [
      "Trump says trade talks with Canada 'terminated' over anti-tariffs advert\n",
      "https://www.bbc.com/news/articles/cdjrlmd4pmeo?at_medium=RSS&at_campaign=rss\n",
      "\n",
      "NBA stars and mafia among dozens arrested in illegal gambling crackdown\n",
      "https://www.bbc.com/news/articles/cvgmpp3x5x5o?at_medium=RSS&at_campaign=rss\n",
      "\n",
      "EU fails to back frozen Russian cash loan - but vows to support Ukraine\n",
      "https://www.bbc.com/news/articles/cn8v0zyx9zyo?at_medium=RSS&at_campaign=rss\n",
      "\n",
      "Louvre heist lift-maker seizes the moment with new ad campaign\n",
      "https://www.bbc.com/news/articles/cpd2zyl304do?at_medium=RSS&at_campaign=rss\n",
      "\n",
      "Ecuador's president says he was target of foiled chocolate and jam poisoning\n",
      "https://www.bbc.com/news/articles/c23102eeln1o?at_medium=RSS&at_campaign=rss\n",
      "\n",
      "German bid to close migrant boats loophole could face delay\n",
      "https://www.bbc.com/news/articles/crrezq7qz0eo?at_medium=RSS&at_campaign=rss\n",
      "\n",
      "We won't accept a stolen vote, Cameroon opposition leader tells BBC\n",
      "https://www.bbc.com/news/articles/cx2n7dq24glo?at_medium=RSS&at_campaign=rss\n",
      "\n",
      "Shock at $100,000 fee to contest Guinea elections to replace junta\n",
      "https://www.bbc.com/news/articles/cjekwp5xw12o?at_medium=RSS&at_campaign=rss\n",
      "\n",
      "Huge noise then I yelled to get out - Louvre attendant recalls shock of heist\n",
      "https://www.bbc.com/news/articles/ckgk2ppvl5wo?at_medium=RSS&at_campaign=rss\n",
      "\n",
      "Ghana's former First Lady Nana Konadu Rawlings dies aged 76\n",
      "https://www.bbc.com/news/articles/c62ex80zp2no?at_medium=RSS&at_campaign=rss\n",
      "\n",
      "Gaza doctors struggle to investigate 'signs of torture' on unnamed dead returned by Israel\n",
      "https://www.bbc.com/news/articles/c4gz3r46e37o?at_medium=RSS&at_campaign=rss\n",
      "\n",
      "Australian servicewomen launch landmark sex abuse case against military\n",
      "https://www.bbc.com/news/articles/crrezxjkwx4o?at_medium=RSS&at_campaign=rss\n",
      "\n",
      "Trump pardons Binance founder Changpeng Zhao\n",
      "https://www.bbc.com/news/articles/cly1qrl9l1qo?at_medium=RSS&at_campaign=rss\n",
      "\n",
      "Another French museum robbery sees 2,000 gold and silver coins stolen\n",
      "https://www.bbc.com/news/articles/cpwvzxnzjzzo?at_medium=RSS&at_campaign=rss\n",
      "\n",
      "China names new second highest-ranking general after military purge\n",
      "https://www.bbc.com/news/articles/c14pxj7vx11o?at_medium=RSS&at_campaign=rss\n",
      "\n",
      "Blackouts hit Russia's Belgorod as Ukrainian drone attacks surge\n",
      "https://www.bbc.com/news/articles/clyl2wjp4nyo?at_medium=RSS&at_campaign=rss\n",
      "\n",
      "France backing away from pledge to intercept migrant boats, sources tell BBC\n",
      "https://www.bbc.com/news/articles/cn8vr95n5n3o?at_medium=RSS&at_campaign=rss\n",
      "\n",
      "What's in Reagan advert that's caused US-Canada trade talks collapse?\n",
      "https://www.bbc.com/news/articles/clyz1e201r8o?at_medium=RSS&at_campaign=rss\n",
      "\n",
      "'Mind-boggling' poker fraud used X-ray tables, high-tech glasses and NBA players\n",
      "https://www.bbc.com/news/articles/cz6nd9wnzn6o?at_medium=RSS&at_campaign=rss\n",
      "\n",
      "South Korea's fishermen keep dying. Is climate change to blame?\n",
      "https://www.bbc.com/news/articles/cvg924nrgd3o?at_medium=RSS&at_campaign=rss\n",
      "\n",
      "Rosenberg: Trump abandons carrot and wields stick over Putin in Ukraine talks\n",
      "https://www.bbc.com/news/articles/cnve5532v7yo?at_medium=RSS&at_campaign=rss\n",
      "\n",
      "New images show Israeli control line deeper into Gaza than expected\n",
      "https://www.bbc.com/news/articles/cx2y00g4x29o?at_medium=RSS&at_campaign=rss\n",
      "\n",
      "What we know about arrests in FBI's illegal gambling investigation\n",
      "https://www.bbc.com/news/articles/cpv1rkxjyyno?at_medium=RSS&at_campaign=rss\n",
      "\n",
      "What's at stake as Trump boat strikes strain US-Colombia alliance\n",
      "https://www.bbc.com/news/articles/c709w5v9dq9o?at_medium=RSS&at_campaign=rss\n",
      "\n",
      "Slow-motion footage reveals secrets of snake bites\n",
      "https://www.bbc.com/news/videos/cm27xp3787do?at_medium=RSS&at_campaign=rss\n",
      "\n",
      "Watch: UN official says Gaza ruins 'like Hiroshima' \n",
      "https://www.bbc.com/news/videos/cd9klvdeg2no?at_medium=RSS&at_campaign=rss\n",
      "\n",
      "How Trump's comments on East Wing demolition evolved\n",
      "https://www.bbc.com/news/videos/c740nz5l54qo?at_medium=RSS&at_campaign=rss\n",
      "\n",
      "Watch: Video appears to show alleged Louvre jewel thieves escaping\n",
      "https://www.bbc.com/news/videos/c4g39dnyky1o?at_medium=RSS&at_campaign=rss\n",
      "\n",
      "'A hugely symbolic moment': King Charles and Pope pray together\n",
      "https://www.bbc.com/news/videos/cdjrl9z772jo?at_medium=RSS&at_campaign=rss\n",
      "\n"
     ]
    }
   ],
   "source": [
    "for item in root.findall(\".//item\"):\n",
    "    title = item.find(\"title\").text\n",
    "    link = item.find(\"link\").text\n",
    "    print(title)\n",
    "    print(link)\n",
    "    print()"
   ]
  },
  {
   "cell_type": "code",
   "execution_count": null,
   "id": "716c17be-3691-4106-a879-e5bbb3b8fca7",
   "metadata": {},
   "outputs": [],
   "source": []
  }
 ],
 "metadata": {
  "kernelspec": {
   "display_name": "Python 3 (ipykernel)",
   "language": "python",
   "name": "python3"
  },
  "language_info": {
   "codemirror_mode": {
    "name": "ipython",
    "version": 3
   },
   "file_extension": ".py",
   "mimetype": "text/x-python",
   "name": "python",
   "nbconvert_exporter": "python",
   "pygments_lexer": "ipython3",
   "version": "3.11.7"
  }
 },
 "nbformat": 4,
 "nbformat_minor": 5
}
