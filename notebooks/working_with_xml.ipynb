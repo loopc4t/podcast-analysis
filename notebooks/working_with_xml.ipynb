{
 "cells": [
  {
   "cell_type": "code",
   "execution_count": 14,
   "id": "f9bf231b-d9e2-4780-aebe-6fe7f36450a8",
   "metadata": {},
   "outputs": [],
   "source": [
    "import xml.etree.ElementTree as ET"
   ]
  },
  {
   "cell_type": "code",
   "execution_count": 22,
   "id": "917aa38a-45c2-46dd-946c-d3c01b365e75",
   "metadata": {},
   "outputs": [],
   "source": [
    "tree = ET.parse(\"data/news_feed.xml\")\n",
    "root = tree.getroot()"
   ]
  },
  {
   "cell_type": "code",
   "execution_count": 23,
   "id": "c96b6e10-1545-40c5-93b2-decaab9bed59",
   "metadata": {},
   "outputs": [
    {
     "name": "stdout",
     "output_type": "stream",
     "text": [
      "Root tag: newsSite\n"
     ]
    }
   ],
   "source": [
    "print(f\"Root tag:\", root.tag)"
   ]
  },
  {
   "cell_type": "code",
   "execution_count": 24,
   "id": "52855317-873a-4fa3-bea5-09581d6b09f8",
   "metadata": {},
   "outputs": [
    {
     "name": "stdout",
     "output_type": "stream",
     "text": [
      "Root attributes: {'name': 'Global Daily', 'url': 'https://www.globaldaily.com', 'language': 'en'}\n"
     ]
    }
   ],
   "source": [
    "print(f\"Root attributes:\", root.attrib)"
   ]
  },
  {
   "cell_type": "code",
   "execution_count": 25,
   "id": "fc963ec4-6ee5-49dc-8e6a-649cbddc3645",
   "metadata": {},
   "outputs": [
    {
     "name": "stdout",
     "output_type": "stream",
     "text": [
      " - meta {}\n",
      " - article {'id': '001'}\n",
      " - article {'id': '002'}\n",
      " - article {'id': '003'}\n"
     ]
    }
   ],
   "source": [
    "for child in list(root)[:5]:\n",
    "    print(f\" -\", child.tag, child.attrib)"
   ]
  },
  {
   "cell_type": "code",
   "execution_count": 29,
   "id": "eafc7f82-a822-45c1-987d-b0d394067fc7",
   "metadata": {},
   "outputs": [
    {
     "name": "stdout",
     "output_type": "stream",
     "text": [
      "New Renewable Energy Record Set in Europe\n",
      "Tech Giants Announce AI Collaboration\n",
      "Historic Peace Agreement Signed\n"
     ]
    }
   ],
   "source": [
    "for article in root.findall('article'):\n",
    "    title = article.find('title').text\n",
    "    print(title)"
   ]
  },
  {
   "cell_type": "code",
   "execution_count": 33,
   "id": "3bf4faa3-c04a-4ce9-9e45-cacebab841d2",
   "metadata": {},
   "outputs": [
    {
     "name": "stdout",
     "output_type": "stream",
     "text": [
      "Root tag: newsSite\n",
      "meta\n",
      "article\n",
      "article\n",
      "article\n"
     ]
    }
   ],
   "source": [
    "# Get the root and top-level tags\n",
    "print(\"Root tag:\", root.tag)\n",
    "for child in root:\n",
    "    print(child.tag)"
   ]
  },
  {
   "cell_type": "code",
   "execution_count": 34,
   "id": "bfe29906-967e-46ef-82dc-a9174a07ee00",
   "metadata": {},
   "outputs": [],
   "source": [
    "# Inspect the first article to discover its structure\n",
    "first_arcticle = root.find(\"article\")"
   ]
  },
  {
   "cell_type": "code",
   "execution_count": 36,
   "id": "79ee4778-f0f0-47f0-9045-585c9db0401a",
   "metadata": {},
   "outputs": [
    {
     "name": "stdout",
     "output_type": "stream",
     "text": [
      "title\n",
      "author\n",
      "date\n",
      "category\n",
      "summary\n",
      "content\n"
     ]
    }
   ],
   "source": [
    "for elem in first_arcticle:\n",
    "    print(elem.tag)"
   ]
  },
  {
   "cell_type": "code",
   "execution_count": null,
   "id": "804afbb1-6581-45e2-8d9e-2aded8b0e9c2",
   "metadata": {},
   "outputs": [],
   "source": []
  }
 ],
 "metadata": {
  "kernelspec": {
   "display_name": "Python 3 (ipykernel)",
   "language": "python",
   "name": "python3"
  },
  "language_info": {
   "codemirror_mode": {
    "name": "ipython",
    "version": 3
   },
   "file_extension": ".py",
   "mimetype": "text/x-python",
   "name": "python",
   "nbconvert_exporter": "python",
   "pygments_lexer": "ipython3",
   "version": "3.11.7"
  }
 },
 "nbformat": 4,
 "nbformat_minor": 5
}
