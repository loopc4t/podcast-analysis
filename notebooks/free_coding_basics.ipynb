{
 "cells": [
  {
   "cell_type": "code",
   "execution_count": 1,
   "id": "a40ebb54-06c2-4a78-bce9-fd164ee308fa",
   "metadata": {},
   "outputs": [
    {
     "name": "stdout",
     "output_type": "stream",
     "text": [
      "::::::::::::::::::::::::::::::::::::::::::::::::::\n",
      "ROD CODE\n",
      "::::::::::::::::::::::::::::::::::::::::::::::::::\n"
     ]
    }
   ],
   "source": [
    "print(\":\"*50)\n",
    "print(\"ROD CODE\")\n",
    "print(\":\"*50)"
   ]
  },
  {
   "cell_type": "code",
   "execution_count": 2,
   "id": "1ebc2db4-83bc-4f55-b19d-3cbfc1e27c56",
   "metadata": {},
   "outputs": [],
   "source": [
    "favorite_podcasts = [\"Darknet Diaries\", \"Decoder Ring\", \"Endless Thread\", \"Guys A Podcast About Guys\",\n",
    "                     \"Heavyweight\", \"Hyperfixed\", \"NO SUCH THING\", \"Panic World\", \"Search Engine\",\n",
    "                     \"The 404 Media Podcast\", \"The Delta Flyers\", \"Wolf & Owl\"]"
   ]
  },
  {
   "cell_type": "code",
   "execution_count": 3,
   "id": "73deab90-5a24-49cd-9868-fcfbd00c864b",
   "metadata": {},
   "outputs": [
    {
     "name": "stdout",
     "output_type": "stream",
     "text": [
      "My Favorite Podcasts are:\n",
      "- Darknet Diaries\n",
      "- Decoder Ring\n",
      "- Endless Thread\n",
      "- Guys A Podcast About Guys\n",
      "- Heavyweight\n",
      "- Hyperfixed\n",
      "- NO SUCH THING\n",
      "- Panic World\n",
      "- Search Engine\n",
      "- The 404 Media Podcast\n",
      "- The Delta Flyers\n",
      "- Wolf & Owl\n"
     ]
    }
   ],
   "source": [
    "print(\"My Favorite Podcasts are:\")\n",
    "for podcast in favorite_podcasts:\n",
    "    print(f\"- {podcast}\")"
   ]
  },
  {
   "cell_type": "markdown",
   "id": "1b3cb651-862a-46f0-baf4-fcaab0e315ff",
   "metadata": {},
   "source": [
    "---"
   ]
  },
  {
   "cell_type": "code",
   "execution_count": 4,
   "id": "45a44ffe-1b55-4b33-9dd0-d03bcbad087e",
   "metadata": {},
   "outputs": [],
   "source": [
    "def series(title=\"Star Trek\", episode=\"The Man Trap\"):\n",
    "    print(f\"Series: {title} - episode: {episode}\")"
   ]
  },
  {
   "cell_type": "code",
   "execution_count": 5,
   "id": "7977e4dd-9194-48cc-9bb4-f9ec6856e916",
   "metadata": {},
   "outputs": [
    {
     "name": "stdout",
     "output_type": "stream",
     "text": [
      "Series: Star Trek - episode: The Man Trap\n"
     ]
    }
   ],
   "source": [
    "series()"
   ]
  },
  {
   "cell_type": "code",
   "execution_count": 6,
   "id": "273148b9-a6a8-4192-9cfb-f8c420e5384f",
   "metadata": {},
   "outputs": [
    {
     "name": "stdout",
     "output_type": "stream",
     "text": [
      "Series: Start Trek: Voyager - episode: The 37's\n"
     ]
    }
   ],
   "source": [
    "series(\"Start Trek: Voyager\", \"The 37's\")"
   ]
  },
  {
   "cell_type": "markdown",
   "id": "2ffc8065-ed52-4f04-a966-fce0aca4d47a",
   "metadata": {},
   "source": [
    "---"
   ]
  },
  {
   "cell_type": "code",
   "execution_count": 7,
   "id": "d634d3c9-cbe3-4e29-a595-508936774008",
   "metadata": {},
   "outputs": [],
   "source": [
    "grocery_list = [\n",
    "    \"milk\",\n",
    "    \"eggs\",\n",
    "    \"bread\",\n",
    "    \"butter\",\n",
    "    \"cheese\",\n",
    "    \"chicken breast\",\n",
    "    \"ground beef\",\n",
    "    \"rice\",\n",
    "    \"pasta\",\n",
    "    \"tomato sauce\",\n",
    "    \"lettuce\",\n",
    "    \"tomatoes\",\n",
    "    \"onions\",\n",
    "    \"garlic\",\n",
    "    \"apples\",\n",
    "    \"bananas\",\n",
    "    \"coffee\",\n",
    "    \"tea\",\n",
    "    \"sugar\",\n",
    "    \"toilet paper\"\n",
    "]"
   ]
  },
  {
   "cell_type": "code",
   "execution_count": 8,
   "id": "c29bb4fb-093d-4be5-91f2-5c66fa0efe6d",
   "metadata": {},
   "outputs": [
    {
     "name": "stdout",
     "output_type": "stream",
     "text": [
      "Items for grocery shopping:\n",
      "\n",
      "1. milk\n",
      "2. eggs\n",
      "3. bread\n",
      "4. butter\n",
      "5. cheese\n",
      "6. chicken breast\n",
      "7. ground beef\n",
      "8. rice\n",
      "9. pasta\n",
      "10. tomato sauce\n",
      "11. lettuce\n",
      "12. tomatoes\n",
      "13. onions\n",
      "14. garlic\n",
      "15. apples\n",
      "16. bananas\n",
      "17. coffee\n",
      "18. tea\n",
      "19. sugar\n",
      "20. toilet paper\n"
     ]
    }
   ],
   "source": [
    "print(\"Items for grocery shopping:\\n\")\n",
    "for index, item in enumerate(grocery_list, 1):\n",
    "    print(f\"{index}. {item}\")"
   ]
  },
  {
   "cell_type": "markdown",
   "id": "829d8810-5fd9-4b5f-b311-17c79db60647",
   "metadata": {},
   "source": [
    "---"
   ]
  },
  {
   "cell_type": "code",
   "execution_count": 12,
   "id": "3d20d769-2fba-441c-bab5-415b6ef77982",
   "metadata": {},
   "outputs": [],
   "source": [
    "music = {\n",
    "    \"artist\": \"AMM\",\n",
    "    \"album\": \"AMMMusic\",\n",
    "    \"year\": 1989,\n",
    "    \"genre\": \"Free Improvisation\"\n",
    "}"
   ]
  },
  {
   "cell_type": "code",
   "execution_count": 14,
   "id": "f24d5eb1-894e-4b85-9890-b6fa5b073b57",
   "metadata": {},
   "outputs": [
    {
     "name": "stdout",
     "output_type": "stream",
     "text": [
      "Artist: AMM - AMMMusic\n"
     ]
    }
   ],
   "source": [
    "print(f\"Artist: {music['artist']} - {music['album']}\")"
   ]
  },
  {
   "cell_type": "code",
   "execution_count": 15,
   "id": "450aee4b-3a26-4dd2-a3b5-5692f3a04949",
   "metadata": {},
   "outputs": [
    {
     "name": "stdout",
     "output_type": "stream",
     "text": [
      "Last.fm scrobbles: Unknown\n"
     ]
    }
   ],
   "source": [
    "print(f\"Last.fm scrobbles: {music.get('scrobbles', 'Unknown')}\")"
   ]
  },
  {
   "cell_type": "markdown",
   "id": "2efbe3ce-657c-4d0f-935e-fa743deef11d",
   "metadata": {},
   "source": [
    "---"
   ]
  },
  {
   "cell_type": "code",
   "execution_count": 16,
   "id": "1db8703f-9ad4-4a21-9b14-62e0fa9f48b8",
   "metadata": {},
   "outputs": [
    {
     "name": "stdout",
     "output_type": "stream",
     "text": [
      "What to do today: Go to the park\n"
     ]
    }
   ],
   "source": [
    "weather = \"Sun\"\n",
    "status = \"Go to the park\" if weather == \"Sun\" else \"Better stay at home\"\n",
    "print(f\"What to do today: {status}\")"
   ]
  },
  {
   "cell_type": "code",
   "execution_count": 20,
   "id": "6e847555-630f-489f-8c7f-94f4d65ded2d",
   "metadata": {},
   "outputs": [
    {
     "name": "stdout",
     "output_type": "stream",
     "text": [
      "Do you have a pen?\n"
     ]
    }
   ],
   "source": [
    "note = \"candy\"\n",
    "status = \"I'll write your number\" if note == \"pen\" or note == \"pencil\" else \"Do you have a pen?\"\n",
    "print(status)"
   ]
  },
  {
   "cell_type": "markdown",
   "id": "347b54f9-975e-42cb-803c-bedebe3cb193",
   "metadata": {},
   "source": [
    "---"
   ]
  },
  {
   "cell_type": "code",
   "execution_count": 36,
   "id": "8e525d38-da81-42ee-8ab3-f73c894eb37a",
   "metadata": {},
   "outputs": [
    {
     "name": "stdout",
     "output_type": "stream",
     "text": [
      "First Season Episodes\n",
      "S01E1\n",
      "S01E2\n",
      "S01E3\n",
      "S01E4\n",
      "S01E5\n",
      "S01E6\n",
      "S01E7\n",
      "S01E8\n",
      "S01E9\n",
      "S01E10\n",
      "S01E11\n",
      "S01E12\n",
      "S01E13\n",
      "S01E14\n",
      "S01E15\n",
      "S01E16\n",
      "S01E17\n",
      "S01E18\n",
      "S01E19\n",
      "S01E20\n",
      "S01E21\n",
      "S01E22\n",
      "S01E23\n",
      "S01E24\n"
     ]
    }
   ],
   "source": [
    "print(\"First Season Episodes\")\n",
    "for i in range(1, 25):\n",
    "    print(f\"S01E{i}\")"
   ]
  },
  {
   "cell_type": "markdown",
   "id": "364ef979-34cd-4b0e-97d6-1fa877168b95",
   "metadata": {},
   "source": [
    "---"
   ]
  },
  {
   "cell_type": "code",
   "execution_count": null,
   "id": "a27fe16b-6016-442b-8fd8-48f70f20f5a7",
   "metadata": {},
   "outputs": [],
   "source": []
  },
  {
   "cell_type": "code",
   "execution_count": null,
   "id": "8043a65c-940a-4b3b-b323-52999962a2d2",
   "metadata": {},
   "outputs": [],
   "source": []
  }
 ],
 "metadata": {
  "kernelspec": {
   "display_name": "Python 3 (ipykernel)",
   "language": "python",
   "name": "python3"
  },
  "language_info": {
   "codemirror_mode": {
    "name": "ipython",
    "version": 3
   },
   "file_extension": ".py",
   "mimetype": "text/x-python",
   "name": "python",
   "nbconvert_exporter": "python",
   "pygments_lexer": "ipython3",
   "version": "3.11.7"
  }
 },
 "nbformat": 4,
 "nbformat_minor": 5
}
