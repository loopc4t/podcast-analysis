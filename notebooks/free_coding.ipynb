{
 "cells": [
  {
   "cell_type": "code",
   "execution_count": 12,
   "id": "a40ebb54-06c2-4a78-bce9-fd164ee308fa",
   "metadata": {},
   "outputs": [
    {
     "name": "stdout",
     "output_type": "stream",
     "text": [
      "::::::::::::::::::::::::::::::::::::::::::::::::::\n",
      "ROD CODE\n",
      "::::::::::::::::::::::::::::::::::::::::::::::::::\n"
     ]
    }
   ],
   "source": [
    "print(\":\"*50)\n",
    "print(\"ROD CODE\")\n",
    "print(\":\"*50)"
   ]
  },
  {
   "cell_type": "code",
   "execution_count": 13,
   "id": "1ebc2db4-83bc-4f55-b19d-3cbfc1e27c56",
   "metadata": {},
   "outputs": [],
   "source": [
    "favorite_podcasts = [\"Darknet Diaries\", \"Decoder Ring\", \"Endless Thread\", \"Guys A Podcast About Guys\",\n",
    "                     \"Heavyweight\", \"Hyperfixed\", \"NO SUCH THING\", \"Panic World\", \"Search Engine\",\n",
    "                     \"The 404 Media Podcast\", \"The Delta Flyers\", \"Wolf & Owl\"]"
   ]
  },
  {
   "cell_type": "code",
   "execution_count": 15,
   "id": "73deab90-5a24-49cd-9868-fcfbd00c864b",
   "metadata": {},
   "outputs": [
    {
     "name": "stdout",
     "output_type": "stream",
     "text": [
      "My Favorite Podcasts are:\n",
      "- Darknet Diaries\n",
      "- Decoder Ring\n",
      "- Endless Thread\n",
      "- Guys A Podcast About Guys\n",
      "- Heavyweight\n",
      "- Hyperfixed\n",
      "- NO SUCH THING\n",
      "- Panic World\n",
      "- Search Engine\n",
      "- The 404 Media Podcast\n",
      "- The Delta Flyers\n",
      "- Wolf & Owl\n"
     ]
    }
   ],
   "source": [
    "print(\"My Favorite Podcasts are:\")\n",
    "for podcast in favorite_podcasts:\n",
    "    print(f\"- {podcast}\")"
   ]
  },
  {
   "cell_type": "markdown",
   "id": "1b3cb651-862a-46f0-baf4-fcaab0e315ff",
   "metadata": {},
   "source": [
    "---"
   ]
  },
  {
   "cell_type": "code",
   "execution_count": 16,
   "id": "45a44ffe-1b55-4b33-9dd0-d03bcbad087e",
   "metadata": {},
   "outputs": [],
   "source": [
    "def series(title=\"Star Trek\", episode=\"The Man Trap\"):\n",
    "    print(f\"Series: {title} - episode: {episode}\")"
   ]
  },
  {
   "cell_type": "code",
   "execution_count": 17,
   "id": "7977e4dd-9194-48cc-9bb4-f9ec6856e916",
   "metadata": {},
   "outputs": [
    {
     "name": "stdout",
     "output_type": "stream",
     "text": [
      "Series: Star Trek - episode: The Man Trap\n"
     ]
    }
   ],
   "source": [
    "series()"
   ]
  },
  {
   "cell_type": "code",
   "execution_count": 18,
   "id": "273148b9-a6a8-4192-9cfb-f8c420e5384f",
   "metadata": {},
   "outputs": [
    {
     "name": "stdout",
     "output_type": "stream",
     "text": [
      "Series: Start Trek: Voyager - episode: The 37's\n"
     ]
    }
   ],
   "source": [
    "series(\"Start Trek: Voyager\", \"The 37's\")"
   ]
  },
  {
   "cell_type": "markdown",
   "id": "2ffc8065-ed52-4f04-a966-fce0aca4d47a",
   "metadata": {},
   "source": [
    "---"
   ]
  },
  {
   "cell_type": "code",
   "execution_count": 19,
   "id": "d634d3c9-cbe3-4e29-a595-508936774008",
   "metadata": {},
   "outputs": [],
   "source": [
    "grocery_list = [\n",
    "    \"milk\",\n",
    "    \"eggs\",\n",
    "    \"bread\",\n",
    "    \"butter\",\n",
    "    \"cheese\",\n",
    "    \"chicken breast\",\n",
    "    \"ground beef\",\n",
    "    \"rice\",\n",
    "    \"pasta\",\n",
    "    \"tomato sauce\",\n",
    "    \"lettuce\",\n",
    "    \"tomatoes\",\n",
    "    \"onions\",\n",
    "    \"garlic\",\n",
    "    \"apples\",\n",
    "    \"bananas\",\n",
    "    \"coffee\",\n",
    "    \"tea\",\n",
    "    \"sugar\",\n",
    "    \"toilet paper\"\n",
    "]"
   ]
  },
  {
   "cell_type": "code",
   "execution_count": 23,
   "id": "c29bb4fb-093d-4be5-91f2-5c66fa0efe6d",
   "metadata": {},
   "outputs": [
    {
     "name": "stdout",
     "output_type": "stream",
     "text": [
      "Items for grocery shopping:\n",
      "\n",
      "1. milk\n",
      "2. eggs\n",
      "3. bread\n",
      "4. butter\n",
      "5. cheese\n",
      "6. chicken breast\n",
      "7. ground beef\n",
      "8. rice\n",
      "9. pasta\n",
      "10. tomato sauce\n",
      "11. lettuce\n",
      "12. tomatoes\n",
      "13. onions\n",
      "14. garlic\n",
      "15. apples\n",
      "16. bananas\n",
      "17. coffee\n",
      "18. tea\n",
      "19. sugar\n",
      "20. toilet paper\n"
     ]
    }
   ],
   "source": [
    "print(\"Items for grocery shopping:\\n\")\n",
    "for index, item in enumerate(grocery_list, 1):\n",
    "    print(f\"{index}. {item}\")"
   ]
  },
  {
   "cell_type": "markdown",
   "id": "829d8810-5fd9-4b5f-b311-17c79db60647",
   "metadata": {},
   "source": [
    "---"
   ]
  },
  {
   "cell_type": "code",
   "execution_count": null,
   "id": "3d20d769-2fba-441c-bab5-415b6ef77982",
   "metadata": {},
   "outputs": [],
   "source": []
  }
 ],
 "metadata": {
  "kernelspec": {
   "display_name": "Python 3 (ipykernel)",
   "language": "python",
   "name": "python3"
  },
  "language_info": {
   "codemirror_mode": {
    "name": "ipython",
    "version": 3
   },
   "file_extension": ".py",
   "mimetype": "text/x-python",
   "name": "python",
   "nbconvert_exporter": "python",
   "pygments_lexer": "ipython3",
   "version": "3.11.7"
  }
 },
 "nbformat": 4,
 "nbformat_minor": 5
}
