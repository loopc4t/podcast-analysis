{
 "cells": [
  {
   "cell_type": "code",
   "execution_count": 21,
   "id": "4da4ce92-0b4c-44c9-bd35-8281b314d9e0",
   "metadata": {},
   "outputs": [],
   "source": [
    "import requests\n",
    "import xml.etree.ElementTree as ET"
   ]
  },
  {
   "cell_type": "code",
   "execution_count": 64,
   "id": "2f3b53e2-cd9c-43e2-b76f-4a7233acd232",
   "metadata": {},
   "outputs": [],
   "source": [
    "url = \"https://itunes.apple.com/us/rss/toppodcasts/limit=10/xml\""
   ]
  },
  {
   "cell_type": "code",
   "execution_count": 65,
   "id": "2554dc26-e9df-4a91-bb83-b4140293e1ac",
   "metadata": {},
   "outputs": [],
   "source": [
    "response = requests.get(url, timeout=10)"
   ]
  },
  {
   "cell_type": "code",
   "execution_count": 66,
   "id": "d0bfb7fe-6c57-4a4b-b821-57ac78f54fc7",
   "metadata": {},
   "outputs": [
    {
     "name": "stdout",
     "output_type": "stream",
     "text": [
      "Success!\n"
     ]
    }
   ],
   "source": [
    "if response.status_code == 200:\n",
    "    print(\"Success!\")\n",
    "else:\n",
    "    print(\"Fail to fetch podcasts\")"
   ]
  },
  {
   "cell_type": "code",
   "execution_count": 67,
   "id": "fc97d405-aae7-4603-8b22-ac1e09202389",
   "metadata": {},
   "outputs": [],
   "source": [
    "root = ET.fromstring(response.content)"
   ]
  },
  {
   "cell_type": "code",
   "execution_count": 68,
   "id": "ca8a95f2-6e27-4c13-ab62-497c747eb76c",
   "metadata": {},
   "outputs": [
    {
     "name": "stdout",
     "output_type": "stream",
     "text": [
      "{http://www.w3.org/2005/Atom}feed\n"
     ]
    }
   ],
   "source": [
    "print(root.tag)"
   ]
  },
  {
   "cell_type": "code",
   "execution_count": 69,
   "id": "a4f6cb92-71b8-40b6-8419-ecbfe2c91781",
   "metadata": {},
   "outputs": [
    {
     "name": "stdout",
     "output_type": "stream",
     "text": [
      "{http://www.w3.org/2005/Atom}id\n",
      "{http://www.w3.org/2005/Atom}title\n",
      "{http://www.w3.org/2005/Atom}updated\n",
      "{http://www.w3.org/2005/Atom}link\n",
      "{http://www.w3.org/2005/Atom}link\n",
      "{http://www.w3.org/2005/Atom}icon\n",
      "{http://www.w3.org/2005/Atom}author\n",
      "{http://www.w3.org/2005/Atom}rights\n",
      "{http://www.w3.org/2005/Atom}entry\n",
      "{http://www.w3.org/2005/Atom}entry\n",
      "{http://www.w3.org/2005/Atom}entry\n",
      "{http://www.w3.org/2005/Atom}entry\n",
      "{http://www.w3.org/2005/Atom}entry\n",
      "{http://www.w3.org/2005/Atom}entry\n",
      "{http://www.w3.org/2005/Atom}entry\n",
      "{http://www.w3.org/2005/Atom}entry\n",
      "{http://www.w3.org/2005/Atom}entry\n",
      "{http://www.w3.org/2005/Atom}entry\n"
     ]
    }
   ],
   "source": [
    "# Find top level items\n",
    "for child in root:\n",
    "    print(child.tag)"
   ]
  },
  {
   "cell_type": "code",
   "execution_count": 70,
   "id": "f8b77050-906e-4384-967a-44bdf090c148",
   "metadata": {},
   "outputs": [],
   "source": [
    "entry_structure = root.find('.//{http://www.w3.org/2005/Atom}entry')"
   ]
  },
  {
   "cell_type": "code",
   "execution_count": 71,
   "id": "47e47e74-466e-47ee-b2b4-4ad0b8fe376c",
   "metadata": {},
   "outputs": [
    {
     "name": "stdout",
     "output_type": "stream",
     "text": [
      "{http://www.w3.org/2005/Atom}id\n",
      "{http://www.w3.org/2005/Atom}title\n",
      "{http://www.w3.org/2005/Atom}summary\n",
      "{http://itunes.apple.com/rss}name\n",
      "{http://www.w3.org/2005/Atom}link\n",
      "{http://itunes.apple.com/rss}contentType\n",
      "{http://www.w3.org/2005/Atom}category\n",
      "{http://itunes.apple.com/rss}artist\n",
      "{http://itunes.apple.com/rss}price\n",
      "{http://itunes.apple.com/rss}image\n",
      "{http://itunes.apple.com/rss}image\n",
      "{http://itunes.apple.com/rss}image\n",
      "{http://www.w3.org/2005/Atom}rights\n",
      "{http://itunes.apple.com/rss}releaseDate\n",
      "{http://www.w3.org/2005/Atom}content\n"
     ]
    }
   ],
   "source": [
    "# Find entry structure\n",
    "for e in entry_structure:\n",
    "    print(e.tag)"
   ]
  },
  {
   "cell_type": "code",
   "execution_count": 72,
   "id": "a749a9b0-7874-44a6-8c6b-bcc1d8f533e2",
   "metadata": {},
   "outputs": [],
   "source": [
    "entries = root.findall('.//{http://www.w3.org/2005/Atom}entry')"
   ]
  },
  {
   "cell_type": "code",
   "execution_count": 73,
   "id": "7abee1d2-8d28-47fc-9f2c-25d54725e5a6",
   "metadata": {},
   "outputs": [
    {
     "name": "stdout",
     "output_type": "stream",
     "text": [
      " 1. The Daily (The New York Times)\n",
      "\n",
      " 2. The Joe Rogan Experience (Joe Rogan)\n",
      "\n",
      " 3. Dateline NBC (NBC News)\n",
      "\n",
      " 4. Crime Junkie (audiochuck)\n",
      "\n",
      " 5. The Mel Robbins Podcast (Mel Robbins)\n",
      "\n",
      " 6. The Rest Is History (Goalhanger)\n",
      "\n",
      " 7. The Megyn Kelly Show (SiriusXM)\n",
      "\n",
      " 8. Good Hang with Amy Poehler (The Ringer)\n",
      "\n",
      " 9. unPAUSED with Dr. Mary Claire Haver (Audacy | Mary Claire Haver, MD)\n",
      "\n",
      "10. Mick Unplugged (Realm)\n",
      "\n"
     ]
    }
   ],
   "source": [
    "for idx, entry in enumerate(entries, 1):\n",
    "    # Extract podcast information\n",
    "    name_elem = entry.find('.//{http://itunes.apple.com/rss}name')\n",
    "    artist_elem = entry.find('.//{http://itunes.apple.com/rss}artist')\n",
    "\n",
    "    name = name_elem.text if name is not None else 'N/A'\n",
    "    artist = artist_elem.text if not None else 'N/A'\n",
    "    print(f\"{idx:2d}. {name} ({artist})\")\n",
    "    print()"
   ]
  },
  {
   "cell_type": "code",
   "execution_count": null,
   "id": "8bb2d52a-459d-4e26-b6ae-8016159b1adf",
   "metadata": {},
   "outputs": [],
   "source": []
  },
  {
   "cell_type": "code",
   "execution_count": null,
   "id": "6d4d3660-bbca-4931-9cc7-fbc2dde430dc",
   "metadata": {},
   "outputs": [],
   "source": []
  },
  {
   "cell_type": "code",
   "execution_count": null,
   "id": "08a8654c-8bb2-4e96-8227-3fb7e66564b0",
   "metadata": {},
   "outputs": [],
   "source": []
  }
 ],
 "metadata": {
  "kernelspec": {
   "display_name": "Python 3 (ipykernel)",
   "language": "python",
   "name": "python3"
  },
  "language_info": {
   "codemirror_mode": {
    "name": "ipython",
    "version": 3
   },
   "file_extension": ".py",
   "mimetype": "text/x-python",
   "name": "python",
   "nbconvert_exporter": "python",
   "pygments_lexer": "ipython3",
   "version": "3.11.7"
  }
 },
 "nbformat": 4,
 "nbformat_minor": 5
}
