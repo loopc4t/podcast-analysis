{
 "cells": [
  {
   "cell_type": "markdown",
   "id": "d0d8a61c-4922-47c1-b1c1-0cf0f2c5376f",
   "metadata": {},
   "source": [
    "### Fundamentals"
   ]
  },
  {
   "cell_type": "code",
   "execution_count": 4,
   "id": "6aa865fe-c6b6-4140-9374-35188792b0ea",
   "metadata": {},
   "outputs": [],
   "source": [
    "name = \"Rod\"\n",
    "age = 28\n",
    "height = 5.9\n",
    "loves_baseball = True"
   ]
  },
  {
   "cell_type": "code",
   "execution_count": 5,
   "id": "fa8bb8b9-c6b0-43a6-8b9a-bdd09d860382",
   "metadata": {},
   "outputs": [
    {
     "name": "stdout",
     "output_type": "stream",
     "text": [
      "<class 'str'>\n",
      "<class 'int'>\n",
      "<class 'float'>\n",
      "<class 'bool'>\n"
     ]
    }
   ],
   "source": [
    "print(type(name))\n",
    "print(type(age))\n",
    "print(type(height))\n",
    "print(type(loves_baseball))"
   ]
  },
  {
   "cell_type": "code",
   "execution_count": 6,
   "id": "23f127a0-f8b2-4262-92d3-98922748309f",
   "metadata": {},
   "outputs": [
    {
     "name": "stdout",
     "output_type": "stream",
     "text": [
      "Rod is 28 years old, and is 5.9 tall.\n"
     ]
    }
   ],
   "source": [
    "print(f\"{name} is {age} years old, and is {height} tall.\")"
   ]
  },
  {
   "cell_type": "markdown",
   "id": "2855e760-92d7-42d7-afac-a065c4343cc1",
   "metadata": {},
   "source": [
    "### Strings"
   ]
  },
  {
   "cell_type": "code",
   "execution_count": 7,
   "id": "bf04cd8f-0801-4666-b482-a0669d403b4c",
   "metadata": {},
   "outputs": [],
   "source": [
    "musician = \"Miles Davis\"\n",
    "river = \"Mississippi River\""
   ]
  },
  {
   "cell_type": "code",
   "execution_count": 8,
   "id": "91864fbe-7763-4a49-8767-7a35bc93a3d6",
   "metadata": {},
   "outputs": [
    {
     "name": "stdout",
     "output_type": "stream",
     "text": [
      "M\n"
     ]
    }
   ],
   "source": [
    "# Indexing and slicing\n",
    "print(musician[0])"
   ]
  },
  {
   "cell_type": "code",
   "execution_count": 9,
   "id": "43a11012-b63d-45de-9542-d273a64661c8",
   "metadata": {},
   "outputs": [
    {
     "name": "stdout",
     "output_type": "stream",
     "text": [
      "s\n"
     ]
    }
   ],
   "source": [
    "print(musician[-1])"
   ]
  },
  {
   "cell_type": "code",
   "execution_count": 10,
   "id": "7ea774f2-d478-4743-9724-36301e281906",
   "metadata": {},
   "outputs": [
    {
     "name": "stdout",
     "output_type": "stream",
     "text": [
      "Miles\n"
     ]
    }
   ],
   "source": [
    "print(musician[0:5])"
   ]
  },
  {
   "cell_type": "code",
   "execution_count": 11,
   "id": "9982a431-abfe-425a-8222-a8c517441e3a",
   "metadata": {},
   "outputs": [
    {
     "name": "stdout",
     "output_type": "stream",
     "text": [
      "Mississippi\n"
     ]
    }
   ],
   "source": [
    "print(river[0:11])"
   ]
  },
  {
   "cell_type": "code",
   "execution_count": 12,
   "id": "37890eb2-6092-45f8-8102-b20b8a6d3920",
   "metadata": {},
   "outputs": [
    {
     "name": "stdout",
     "output_type": "stream",
     "text": [
      "sivaD seliM\n"
     ]
    }
   ],
   "source": [
    "print(musician[::-1])"
   ]
  },
  {
   "cell_type": "code",
   "execution_count": 13,
   "id": "d0c69f81-027c-4ec2-8c93-d9e31b5a80ef",
   "metadata": {},
   "outputs": [
    {
     "name": "stdout",
     "output_type": "stream",
     "text": [
      "mississippi river\n"
     ]
    }
   ],
   "source": [
    "# String Methods\n",
    "print(river.lower())"
   ]
  },
  {
   "cell_type": "code",
   "execution_count": 14,
   "id": "d0b705e0-cf24-4646-aa28-be1f6cab1c72",
   "metadata": {},
   "outputs": [
    {
     "name": "stdout",
     "output_type": "stream",
     "text": [
      "MISSISSIPPI RIVER\n"
     ]
    }
   ],
   "source": [
    "print(river.upper())"
   ]
  },
  {
   "cell_type": "code",
   "execution_count": 15,
   "id": "a0e83667-71d9-4563-959e-beedae138b5f",
   "metadata": {},
   "outputs": [
    {
     "name": "stdout",
     "output_type": "stream",
     "text": [
      "Amazon River\n"
     ]
    }
   ],
   "source": [
    "print(river.replace(\"Mississippi\", \"Amazon\"))"
   ]
  },
  {
   "cell_type": "code",
   "execution_count": 16,
   "id": "57035638-c054-480e-8501-b94938fcd097",
   "metadata": {},
   "outputs": [
    {
     "name": "stdout",
     "output_type": "stream",
     "text": [
      "['Miles', 'Davis']\n"
     ]
    }
   ],
   "source": [
    "print(musician.split())"
   ]
  },
  {
   "cell_type": "code",
   "execution_count": 17,
   "id": "08082f9f-8e33-4b36-87d4-616f196423d9",
   "metadata": {},
   "outputs": [
    {
     "name": "stdout",
     "output_type": "stream",
     "text": [
      "17\n"
     ]
    }
   ],
   "source": [
    "print(len(river))"
   ]
  },
  {
   "cell_type": "code",
   "execution_count": 18,
   "id": "3045fc72-49e2-4d41-9172-39e58a5f2df7",
   "metadata": {},
   "outputs": [],
   "source": [
    "# String formatting\n",
    "team = \"New York Yankees\"\n",
    "championships = 27"
   ]
  },
  {
   "cell_type": "code",
   "execution_count": 19,
   "id": "fd0574f9-f9a0-4638-ade0-9b580e97b743",
   "metadata": {},
   "outputs": [
    {
     "name": "stdout",
     "output_type": "stream",
     "text": [
      "The New York Yankees have won 27 champinonships.\n"
     ]
    }
   ],
   "source": [
    "print(f\"The {team} have won {championships} champinonships.\")"
   ]
  },
  {
   "cell_type": "markdown",
   "id": "720e5d65-6754-409c-ab31-a1be4dd0f74a",
   "metadata": {},
   "source": [
    "### Lists"
   ]
  },
  {
   "cell_type": "code",
   "execution_count": 20,
   "id": "f192f866-9cda-4496-a3dc-23f6f19fe1ed",
   "metadata": {},
   "outputs": [],
   "source": [
    "musicians = [\"Miles Davie\", \"John Coltrane\", \"Nina Simone\", \"Billie Holiday\"]\n",
    "rivers = [\"Amazon\", \"Nile\", \"Mississippi\", \"Yangtze\", \"Danube\"]\n",
    "baseball_teams = [\"Yankees\", \"Red Sox\", \"Dodgers\", \"Cubs\", \"Giants\"]"
   ]
  },
  {
   "cell_type": "code",
   "execution_count": 21,
   "id": "f54e9349-7b5d-4789-94c6-d08b89c30005",
   "metadata": {},
   "outputs": [
    {
     "name": "stdout",
     "output_type": "stream",
     "text": [
      "M\n",
      "Danube\n",
      "['Red Sox', 'Dodgers']\n"
     ]
    }
   ],
   "source": [
    "# Accessing elements\n",
    "print(musician[0])\n",
    "print(rivers[-1])\n",
    "print(baseball_teams[1:3])"
   ]
  },
  {
   "cell_type": "code",
   "execution_count": 23,
   "id": "6b26424f-080d-4a49-b565-beee9727de5a",
   "metadata": {},
   "outputs": [],
   "source": [
    "# List methods\n",
    "musicians.append(\"Ella Fitzgerald\")"
   ]
  },
  {
   "cell_type": "code",
   "execution_count": 24,
   "id": "eef67d32-8948-4d25-a03f-6f75ce256e2a",
   "metadata": {},
   "outputs": [
    {
     "data": {
      "text/plain": [
       "['Miles Davie',\n",
       " 'John Coltrane',\n",
       " 'Nina Simone',\n",
       " 'Billie Holiday',\n",
       " 'Ella Fitzgerald']"
      ]
     },
     "execution_count": 24,
     "metadata": {},
     "output_type": "execute_result"
    }
   ],
   "source": [
    "musicians"
   ]
  },
  {
   "cell_type": "code",
   "execution_count": 25,
   "id": "9480545e-b6cb-4cb7-8ce4-98b771677b25",
   "metadata": {},
   "outputs": [],
   "source": [
    "musicians.insert(0, \"Louis Armstrong\")"
   ]
  },
  {
   "cell_type": "code",
   "execution_count": 26,
   "id": "d386962e-7d93-4420-9358-c11afac18c72",
   "metadata": {},
   "outputs": [
    {
     "data": {
      "text/plain": [
       "['Louis Armstrong',\n",
       " 'Miles Davie',\n",
       " 'John Coltrane',\n",
       " 'Nina Simone',\n",
       " 'Billie Holiday',\n",
       " 'Ella Fitzgerald']"
      ]
     },
     "execution_count": 26,
     "metadata": {},
     "output_type": "execute_result"
    }
   ],
   "source": [
    "musicians"
   ]
  },
  {
   "cell_type": "code",
   "execution_count": 28,
   "id": "d632b1df-2111-42bb-a522-0f46bd902f12",
   "metadata": {},
   "outputs": [],
   "source": [
    "musicians.remove(\"Nina Simone\")"
   ]
  },
  {
   "cell_type": "code",
   "execution_count": 30,
   "id": "e833dda3-1714-4e13-9ccd-f0dacdeca3ab",
   "metadata": {},
   "outputs": [
    {
     "data": {
      "text/plain": [
       "['Louis Armstrong',\n",
       " 'Miles Davie',\n",
       " 'John Coltrane',\n",
       " 'Billie Holiday',\n",
       " 'Ella Fitzgerald']"
      ]
     },
     "execution_count": 30,
     "metadata": {},
     "output_type": "execute_result"
    }
   ],
   "source": [
    "musicians"
   ]
  },
  {
   "cell_type": "code",
   "execution_count": 31,
   "id": "a0860cf0-ad68-46fd-9321-b7e73577f032",
   "metadata": {},
   "outputs": [],
   "source": [
    "popped = musicians.pop()"
   ]
  },
  {
   "cell_type": "code",
   "execution_count": 32,
   "id": "676c831e-19d1-4925-9a71-945f0ca0ce61",
   "metadata": {},
   "outputs": [
    {
     "data": {
      "text/plain": [
       "['Louis Armstrong', 'Miles Davie', 'John Coltrane', 'Billie Holiday']"
      ]
     },
     "execution_count": 32,
     "metadata": {},
     "output_type": "execute_result"
    }
   ],
   "source": [
    "musicians"
   ]
  },
  {
   "cell_type": "code",
   "execution_count": 33,
   "id": "d3a5beef-e9fd-4bd7-a36d-8e5dc2ee8337",
   "metadata": {},
   "outputs": [
    {
     "name": "stdout",
     "output_type": "stream",
     "text": [
      "Removed: Ella Fitzgerald\n"
     ]
    }
   ],
   "source": [
    "print(f\"Removed: {popped}\")"
   ]
  },
  {
   "cell_type": "code",
   "execution_count": 34,
   "id": "5ef3b188-9f65-4b45-ab3a-62cd48f1d99c",
   "metadata": {},
   "outputs": [
    {
     "name": "stdout",
     "output_type": "stream",
     "text": [
      "5\n"
     ]
    }
   ],
   "source": [
    "# List operations\n",
    "print(len(rivers))"
   ]
  },
  {
   "cell_type": "code",
   "execution_count": 35,
   "id": "86c9b9fa-d167-4901-8e23-24d944e0c0d6",
   "metadata": {},
   "outputs": [
    {
     "name": "stdout",
     "output_type": "stream",
     "text": [
      "['Cubs', 'Dodgers', 'Giants', 'Red Sox', 'Yankees']\n"
     ]
    }
   ],
   "source": [
    "print(sorted(baseball_teams))"
   ]
  },
  {
   "cell_type": "code",
   "execution_count": 36,
   "id": "7132dd15-b1da-4f44-96cd-c549d64ae826",
   "metadata": {},
   "outputs": [],
   "source": [
    "# List comprehension\n",
    "long_rivers = [river for river in rivers if len(river) > 5]"
   ]
  },
  {
   "cell_type": "code",
   "execution_count": 37,
   "id": "4b48bc2a-aa50-4fb0-b71e-b875e06b3ff1",
   "metadata": {},
   "outputs": [
    {
     "data": {
      "text/plain": [
       "['Amazon', 'Mississippi', 'Yangtze', 'Danube']"
      ]
     },
     "execution_count": 37,
     "metadata": {},
     "output_type": "execute_result"
    }
   ],
   "source": [
    "long_rivers"
   ]
  },
  {
   "cell_type": "code",
   "execution_count": null,
   "id": "eb373062-6ed6-4b70-b335-7012b1f583f4",
   "metadata": {},
   "outputs": [],
   "source": []
  }
 ],
 "metadata": {
  "kernelspec": {
   "display_name": "Python 3 (ipykernel)",
   "language": "python",
   "name": "python3"
  },
  "language_info": {
   "codemirror_mode": {
    "name": "ipython",
    "version": 3
   },
   "file_extension": ".py",
   "mimetype": "text/x-python",
   "name": "python",
   "nbconvert_exporter": "python",
   "pygments_lexer": "ipython3",
   "version": "3.11.7"
  }
 },
 "nbformat": 4,
 "nbformat_minor": 5
}
